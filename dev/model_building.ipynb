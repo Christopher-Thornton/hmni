{
 "cells": [
  {
   "cell_type": "markdown",
   "metadata": {},
   "source": [
    "# HMNI Model Building"
   ]
  },
  {
   "cell_type": "code",
   "execution_count": null,
   "metadata": {},
   "outputs": [],
   "source": [
    "import sys\n",
    "import os"
   ]
  },
  {
   "cell_type": "code",
   "execution_count": null,
   "metadata": {},
   "outputs": [],
   "source": [
    "hmni_path = os.path.abspath(os.path.join('..'))\n",
    "if hmni_path not in sys.path:\n",
    "    sys.path.append(hmni_path+\"\\\\hmni\")"
   ]
  },
  {
   "cell_type": "code",
   "execution_count": null,
   "metadata": {},
   "outputs": [],
   "source": [
    "import pandas as pd\n",
    "pd.set_option('display.max_columns',500)\n",
    "pd.set_option('display.max_rows',1000)\n",
    "pd.set_option('display.max_colwidth', None)"
   ]
  },
  {
   "cell_type": "code",
   "execution_count": null,
   "metadata": {},
   "outputs": [],
   "source": [
    "alt_names = pd.read_csv('name_pairs.txt', sep=\",\", header=None)"
   ]
  },
  {
   "cell_type": "code",
   "execution_count": null,
   "metadata": {},
   "outputs": [],
   "source": [
    "alt_names.columns=['name_a', 'name_b']"
   ]
  },
  {
   "cell_type": "code",
   "execution_count": null,
   "metadata": {},
   "outputs": [],
   "source": [
    "alt_names.sample(10)"
   ]
  },
  {
   "cell_type": "code",
   "execution_count": null,
   "metadata": {},
   "outputs": [],
   "source": [
    "import unidecode\n",
    "from fuzzywuzzy import fuzz\n",
    "from syllable_tokenizer import SyllableTokenizer\n",
    "ST = SyllableTokenizer()\n",
    "from abydos.distance import (IterativeSubString, BISIM, DiscountedLevenshtein, Prefix, LCSstr, MLIPNS, Strcmp95,\n",
    "MRA, Editex, SAPS, FlexMetric, JaroWinkler, HigueraMico, Sift4, Eudex, ALINE, Covington, PhoneticEditDistance)\n",
    "from abydos.phonetic import PSHPSoundexFirst, Ainsworth\n",
    "pshp_soundex_first = PSHPSoundexFirst()"
   ]
  },
  {
   "cell_type": "code",
   "execution_count": null,
   "metadata": {},
   "outputs": [],
   "source": [
    "iss = IterativeSubString()\n",
    "bisim = BISIM()\n",
    "dlev = DiscountedLevenshtein()\n",
    "prefix = Prefix()\n",
    "lcs = LCSstr()\n",
    "mlipns = MLIPNS()\n",
    "strcmp95 = Strcmp95()\n",
    "mra = MRA()\n",
    "editex = Editex()\n",
    "saps = SAPS()\n",
    "flexmetric = FlexMetric()\n",
    "jaro = JaroWinkler(mode='Jaro')\n",
    "higuera_mico = HigueraMico()\n",
    "sift4 = Sift4()\n",
    "eudex = Eudex()\n",
    "aline = ALINE()\n",
    "covington = Covington()\n",
    "phonetic_edit = PhoneticEditDistance()"
   ]
  },
  {
   "cell_type": "code",
   "execution_count": null,
   "metadata": {},
   "outputs": [],
   "source": [
    "algos = [iss,bisim,dlev,prefix,lcs,mlipns,strcmp95,mra,editex,saps,\n",
    "         flexmetric,jaro,higuera_mico,sift4,eudex,aline,covington,phonetic_edit]\n",
    "\n",
    "algo_names = ['iterativesubstring','bisim','discountedlevenshtein','prefix','lcsstr','mlipns','strcmp95','mra','editex','saps',\n",
    "              'flexmetric','jaro','higueramico','sift4','eudex','aline','covington','phoneticeditdistance']"
   ]
  },
  {
   "cell_type": "code",
   "execution_count": null,
   "metadata": {},
   "outputs": [],
   "source": [
    "from abydos.phones import *"
   ]
  },
  {
   "cell_type": "code",
   "execution_count": null,
   "metadata": {},
   "outputs": [],
   "source": [
    "pe = Ainsworth()\n",
    "def sum_ipa(name_a, name_b):\n",
    "    feat1 = ipa_to_features(pe.encode(name_a))\n",
    "    feat2 = ipa_to_features(pe.encode(name_b))\n",
    "    score = sum(cmp_features(f1, f2) for f1, f2 in zip(feat1, feat2))/len(feat1)\n",
    "    return score"
   ]
  },
  {
   "cell_type": "code",
   "execution_count": null,
   "metadata": {},
   "outputs": [],
   "source": [
    "import re"
   ]
  },
  {
   "cell_type": "code",
   "execution_count": null,
   "metadata": {},
   "outputs": [],
   "source": [
    "def featurize(df):\n",
    "    if len(df.columns)==3:\n",
    "        df.columns=['a', 'b', 'target']\n",
    "    elif len(df.columns)==2:\n",
    "        df.columns=['a', 'b']\n",
    "    else:\n",
    "        df = df.rename(columns={ df.columns[0]: 'a', df.columns[1]: 'b' })\n",
    "    df['name_a'] = df.apply(lambda row: re.sub(\n",
    "        '[^a-zA-Z]+', '', unidecode.unidecode(row['a']).lower().strip()), axis=1)\n",
    "    df['name_b'] = df.apply(lambda row: re.sub(\n",
    "        '[^a-zA-Z]+', '', unidecode.unidecode(row['b']).lower().strip()), axis=1)\n",
    "    df['syll_a'] = df.apply(lambda row: ST.tokenize(row.name_a),axis=1)\n",
    "    df['syll_a'] = df.apply(lambda row: ST.tokenize(row.name_a),axis=1)\n",
    "    df['syll_b'] = df.apply(lambda row: ST.tokenize(row.name_b),axis=1)\n",
    "    df['partial'] = df.apply(lambda row: fuzz.partial_ratio(row.syll_a,row.syll_b),axis=1)\n",
    "    df['tkn_sort'] = df.apply(lambda row: fuzz.token_sort_ratio(row.syll_a,row.syll_b),axis=1)\n",
    "    df['tkn_set'] = df.apply(lambda row: fuzz.token_set_ratio(row.syll_a,row.syll_b),axis=1)\n",
    "    df['sum_ipa'] = df.apply(lambda row: sum_ipa(row.name_a, row.name_b),axis=1)\n",
    "    df['pshp_soundex_first'] = df.apply(\n",
    "        lambda row: 1 if pshp_soundex_first.encode(row.name_a) == pshp_soundex_first.encode(row.name_b) else 0,axis=1)\n",
    "    for i, algo in enumerate(algos):\n",
    "            df[algo_names[i]] = df.apply(lambda row: algo.sim(row.name_a, row.name_b),axis=1)\n",
    "            \n",
    "    df.drop(['syll_a','syll_b'], axis=1, inplace=True)\n",
    "    return df"
   ]
  },
  {
   "cell_type": "code",
   "execution_count": null,
   "metadata": {},
   "outputs": [],
   "source": [
    "# Unused featurize code\n",
    "'''\n",
    "def removesuffix(name):\n",
    "    # high-frequency suffixes\n",
    "    suffixes =['acska','ander','andra','annah','annes','anuel','arina','athan','cilla','cillo','delia','echka',\n",
    "               'ecita','ecito','eczek','eczka','ediah','elina','eline','eniek','erick','erina','essie','ester',\n",
    "               'henka','ienka','illie','islav','lbert','lenka','linda','linha','lphia','nchik','nette','ninha',\n",
    "               'ochka','olina','oncho','onnie','oshka''oslav','rance','rence','rilla','rinda','risse','slava',\n",
    "               'stina','stine','tenka','ushka','ustin','yinka','yusha','zuela','zuelo','akun','alle','anda',\n",
    "               'ande','anka','anna','anne','bert','chan','chen','chka','chuk','ciek','cita','citp','czek','czka',\n",
    "               'elia','ella','elle','ence','enia','enka','enki','enne','erre','erry','etta','ette','iana','illa',\n",
    "               'ille','illo','illy','imir','inda','inha','inho','inka','inyu','isse','lava','lein','lina','line',\n",
    "               'llie','ncho','ndra','nnie','oche','omir','onne','rick','rina','shka','slav','ssie','ster','tina',\n",
    "               'tine','uela','uelo','uina','usha','usia','yika','ale','ana','ane','ari','chk','cho','cia','csi',\n",
    "               'czo','ela','ele','ell','ena','ene','ert','eta','ete','han','hka','iah','ica','ick','ico','ika',\n",
    "               'ina','ine','ino','isa','ita','ito','lav','lia','lie','lka','lki','lla','lle','lly','mir','nce',\n",
    "               'nda','nha','nia','nie','njo','nka','nna','nne','nny','onk','ora','rre','rry','sha','shk','sia',\n",
    "               'sie','ska','ski','sku','son','sse','tta','tte','ush','yok','zek','zka','ah','am','an','as','av',\n",
    "               'ca','ce','ck','da','de','do','dy','ek','el','en','er','es','et','ey','ge','ha','ho','ia','ic',\n",
    "               'ie','ig','ik','in','is','ja','ke','ko','la','le','ll','lo','na','ne','ni','on','or','ot','ra',\n",
    "               're','ri','ry','sa','se','si','ta','te','to','un','us','ya','a','e','i','l','o','y']   \n",
    "    for suffix in suffixes:\n",
    "        if name.endswith(suffix):\n",
    "            if len(name)>len(suffix)+1:\n",
    "                return name[:-(len(suffix))]\n",
    "    return name\n",
    "'''"
   ]
  },
  {
   "cell_type": "code",
   "execution_count": null,
   "metadata": {},
   "outputs": [],
   "source": [
    "'''\n",
    "# Remove frequent prefix/suffix\n",
    "df['stemmed_a'] = df.apply(lambda row: removesuffix(row.name_a),axis=1)\n",
    "df['stemmed_b'] = df.apply(lambda row: removesuffix(row.name_b),axis=1)\n",
    "\n",
    "# Remove Vowels\n",
    "df['consonant_a'] = df.apply(lambda row: re.sub(\"[aeiouAEIOU]\",\"\",row.name_a),axis=1)  \n",
    "df['consonant_b'] = df.apply(lambda row: re.sub(\"[aeiouAEIOU]\",\"\",row.name_b),axis=1)\n",
    "\n",
    "for i, metric in enumerate(dist_metrics):\n",
    "    print(type(metric))\n",
    "    try:\n",
    "        df[dist_names[i]+'_stem'] = df.apply(lambda row: metric.sim(row.name_a, row.name_b),axis=1)\n",
    "    except:\n",
    "         continue\n",
    "\n",
    "for i, metric in enumerate(dist_metrics):\n",
    "    print(type(metric))\n",
    "    try:\n",
    "        df[dist_names[i]+'_cons'] = df.apply(lambda row: metric.sim(row.name_a, row.name_b),axis=1)\n",
    "    except:\n",
    "         continue\n",
    "'''"
   ]
  },
  {
   "cell_type": "code",
   "execution_count": null,
   "metadata": {},
   "outputs": [],
   "source": [
    "# Positive Class\n",
    "alt_names['target']=1"
   ]
  },
  {
   "cell_type": "code",
   "execution_count": null,
   "metadata": {},
   "outputs": [],
   "source": [
    "from itertools import combinations\n",
    "import random\n",
    "random.seed(30)"
   ]
  },
  {
   "cell_type": "code",
   "execution_count": null,
   "metadata": {},
   "outputs": [],
   "source": [
    "# Use combinatorics to generate negative class\n",
    "all_names = alt_names.loc[:, 'name_a':'name_b'].values.tolist()\n",
    "unique_names = list(set([item for items in all_names for item in items]))\n",
    "alt_pairs = list(zip(alt_names.name_a, alt_names.name_b))+ list(zip(alt_names.name_b, alt_names.name_a))\n",
    "comb = list(combinations(unique_names, 2))\n",
    "non_alt = list(set(comb) - set(alt_pairs))\n",
    "# Undersample the negative class for 1:4 class imbalance instead of 1:1000 extreme class imbalance\n",
    "non_alt = pd.DataFrame(random.choices(non_alt, k=70040), columns=['name_a', 'name_b'])"
   ]
  },
  {
   "cell_type": "code",
   "execution_count": null,
   "metadata": {},
   "outputs": [],
   "source": [
    "print('positive class ratio 1:{}'.format(int(len(non_alt)/len(alt_names))))"
   ]
  },
  {
   "cell_type": "code",
   "execution_count": null,
   "metadata": {},
   "outputs": [],
   "source": [
    "'''\n",
    "# Use combinatorics to generate negative class\n",
    "all_names = alt_names.loc[:, 'name_a':'name_b'].values.tolist()\n",
    "unique_names = list(set([item for items in all_names for item in items]))\n",
    "alt_pairs = list(zip(alt_names.name_a, alt_names.name_b))+ list(zip(alt_names.name_b, alt_names.name_a))\n",
    "#comb = list(islice(combinations(unique_names, 2), len(df)+len(alt_pairs)))\n",
    "comb = list(combinations(unique_names, 2))\n",
    "non_alt = list(set(comb) - set(alt_pairs))\n",
    "# Undersample the negative class for equal class balance\n",
    "non_alt = pd.DataFrame(non_alt[:len(alt_names)])\n",
    "non_alt.columns=['name_a', 'name_b']\n",
    "'''"
   ]
  },
  {
   "cell_type": "code",
   "execution_count": null,
   "metadata": {},
   "outputs": [],
   "source": [
    "non_alt.sample(10)"
   ]
  },
  {
   "cell_type": "code",
   "execution_count": null,
   "metadata": {
    "scrolled": true
   },
   "outputs": [],
   "source": [
    "# Negative Class\n",
    "non_alt['target']=0\n",
    "df = pd.concat([alt_names, non_alt])\n",
    "non_alt = None\n",
    "alt_names = None"
   ]
  },
  {
   "cell_type": "code",
   "execution_count": null,
   "metadata": {},
   "outputs": [],
   "source": [
    "df = featurize(df)"
   ]
  },
  {
   "cell_type": "code",
   "execution_count": null,
   "metadata": {},
   "outputs": [],
   "source": [
    "df.sample(5)"
   ]
  },
  {
   "cell_type": "code",
   "execution_count": null,
   "metadata": {},
   "outputs": [],
   "source": [
    "y = df.target\n",
    "X = df.drop('target',1)"
   ]
  },
  {
   "cell_type": "markdown",
   "metadata": {},
   "source": [
    "## AUTOML Model Building"
   ]
  },
  {
   "cell_type": "code",
   "execution_count": null,
   "metadata": {},
   "outputs": [],
   "source": [
    "from sklearn.model_selection import train_test_split"
   ]
  },
  {
   "cell_type": "code",
   "execution_count": null,
   "metadata": {},
   "outputs": [],
   "source": [
    "X_train, X_test, y_train, y_test = train_test_split(\n",
    "    X,\n",
    "    y,\n",
    "    test_size=0.20,\n",
    "    random_state=1)"
   ]
  },
  {
   "cell_type": "code",
   "execution_count": null,
   "metadata": {},
   "outputs": [],
   "source": [
    "#from tpot import TPOTClassifier # conda install -c conda-forge tpot xgboost dask dask-ml scikit-mdr skrebate"
   ]
  },
  {
   "cell_type": "code",
   "execution_count": null,
   "metadata": {},
   "outputs": [],
   "source": [
    "'''\n",
    "pipeline_optimizer = TPOTClassifier(\n",
    "        scoring = 'f1', # Harmonic Mean of Precision and Recall\n",
    "        generations=200,\n",
    "        verbosity=2,\n",
    "        n_jobs=-1) # Utilizes all available CPU cores\n",
    "pipeline_optimizer.fit(X_train.drop(['a', 'b', 'name_a', 'name_b'],1), y_train)\n",
    "'''"
   ]
  },
  {
   "cell_type": "code",
   "execution_count": null,
   "metadata": {},
   "outputs": [],
   "source": [
    "#print(pipeline_optimizer.score(X_test.drop(['a', 'b', 'name_a', 'name_b'],1), y_test))"
   ]
  },
  {
   "cell_type": "code",
   "execution_count": null,
   "metadata": {},
   "outputs": [],
   "source": [
    "#pipeline_optimizer.export('tpot_exported_pipeline_final.py')"
   ]
  },
  {
   "cell_type": "markdown",
   "metadata": {},
   "source": [
    "## Submodel 1: Exported TPOT Pipeline"
   ]
  },
  {
   "cell_type": "code",
   "execution_count": null,
   "metadata": {},
   "outputs": [],
   "source": [
    "from sklearn.ensemble import RandomForestClassifier\n",
    "from sklearn.pipeline import make_pipeline\n",
    "from sklearn.preprocessing import MaxAbsScaler, MinMaxScaler"
   ]
  },
  {
   "cell_type": "code",
   "execution_count": null,
   "metadata": {},
   "outputs": [],
   "source": [
    "def base_model_1(X_train, y_train, X_test, export=False):\n",
    "    exported_pipeline = make_pipeline(\n",
    "        MaxAbsScaler(),\n",
    "        MinMaxScaler(),\n",
    "        RandomForestClassifier(\n",
    "            bootstrap=False,\n",
    "            criterion=\"gini\",\n",
    "            max_features=0.25,\n",
    "            min_samples_leaf=1,\n",
    "            min_samples_split=4,\n",
    "            n_estimators=100)\n",
    "    )\n",
    "    exported_pipeline.fit(X_train, y_train)\n",
    "    if export==True:\n",
    "        return exported_pipeline\n",
    "    else:\n",
    "        y_pred = exported_pipeline.predict_proba(X_test)\n",
    "        return [p[1] for p in y_pred]"
   ]
  },
  {
   "cell_type": "markdown",
   "metadata": {},
   "source": [
    "## Submodel 2: Deep LSTM siamese network\n",
    "###   Modified from REPO: https://github.com/dhwajraj/deep-siamese-text-similarity"
   ]
  },
  {
   "cell_type": "code",
   "execution_count": null,
   "metadata": {},
   "outputs": [],
   "source": [
    "import tensorflow as tf # ==1.13.1\n",
    "import numpy as np\n",
    "import os\n",
    "import random\n",
    "from input_helpers import InputHelper\n",
    "from siamese_network import SiameseLSTM"
   ]
  },
  {
   "cell_type": "code",
   "execution_count": null,
   "metadata": {},
   "outputs": [],
   "source": [
    "def base_model_2(X_train, y_train, X_test, export=False):\n",
    "    \n",
    "    # Train Model\n",
    "    embedding_dim = 300 # Dimensionality of character embedding\n",
    "    dropout_keep_prob = 0.8 # Dropout keep probability\n",
    "    hidden_units = 50\n",
    "    batch_size = 64\n",
    "    num_epochs = 300  # Number of training epochs\n",
    "    evaluate_every = 1000  # Evaluate model on dev set after this many steps\n",
    "    max_document_length = 15\n",
    "    out_dir = os.getcwd()+'\\\\' # where to save exported models\n",
    "\n",
    "    inpH = InputHelper()\n",
    "    train_set, dev_set, vocab_processor, sum_no_of_batches = \\\n",
    "        inpH.get_datasets(\n",
    "        X_train[['name_a', 'name_b']],\n",
    "        y_train,\n",
    "        max_document_length=max_document_length,\n",
    "        percent_dev=10,\n",
    "        batch_size=64)\n",
    "\n",
    "\n",
    "    #print('starting graph def')\n",
    "    graph = tf.Graph()\n",
    "    with tf.Graph().as_default():\n",
    "        session_conf = tf.ConfigProto(allow_soft_placement=True, log_device_placement=False)\n",
    "        sess = tf.Session(config=session_conf)\n",
    "        #print('started session')\n",
    "        with sess.as_default():\n",
    "            siameseModel = SiameseLSTM(\n",
    "                sequence_length=max_document_length,\n",
    "                vocab_size=len(vocab_processor.vocabulary_),\n",
    "                embedding_size=embedding_dim,\n",
    "                hidden_units=hidden_units,\n",
    "                batch_size=batch_size,\n",
    "            )\n",
    "\n",
    "            # Define Training procedure\n",
    "            global_step = tf.Variable(0, name='global_step', trainable=False)\n",
    "            optimizer = tf.train.AdamOptimizer(1e-3)\n",
    "            #print('initialized siameseModel object')\n",
    "\n",
    "        grads_and_vars = optimizer.compute_gradients(siameseModel.loss)\n",
    "        tr_op_set = optimizer.apply_gradients(grads_and_vars, global_step=global_step)\n",
    "        #print('defined training_ops')\n",
    "        \n",
    "        if export==True:\n",
    "            saver = tf.train.Saver(tf.global_variables(), max_to_keep=100)\n",
    "            # Write vocabulary\n",
    "            vocab_processor.save(os.path.join(out_dir, 'vocab'))\n",
    "\n",
    "        # Initialize all variables\n",
    "        sess.run(tf.global_variables_initializer())\n",
    "\n",
    "        def train_step(x1_batch, x2_batch, y_batch):\n",
    "            # A single training step\n",
    "            if random.random() > 0.5:\n",
    "                feed_dict = {\n",
    "                    siameseModel.input_x1: x1_batch,\n",
    "                    siameseModel.input_x2: x2_batch,\n",
    "                    siameseModel.input_y: y_batch,\n",
    "                    siameseModel.dropout_keep_prob: dropout_keep_prob,\n",
    "                }\n",
    "            else:\n",
    "                feed_dict = {\n",
    "                    siameseModel.input_x1: x2_batch,\n",
    "                    siameseModel.input_x2: x1_batch,\n",
    "                    siameseModel.input_y: y_batch,\n",
    "                    siameseModel.dropout_keep_prob: dropout_keep_prob,\n",
    "                }\n",
    "            (_, step, loss, accuracy, dist, sim) = \\\n",
    "                sess.run([tr_op_set, global_step, siameseModel.loss, siameseModel.accuracy,\n",
    "                          siameseModel.distance, siameseModel.temp_sim], feed_dict)\n",
    "\n",
    "        def dev_step(x1_batch, x2_batch, y_batch):\n",
    "            # A single training step\n",
    "            if random.random() > 0.5:\n",
    "                feed_dict = {\n",
    "                    siameseModel.input_x1: x1_batch,\n",
    "                    siameseModel.input_x2: x2_batch,\n",
    "                    siameseModel.input_y: y_batch,\n",
    "                    siameseModel.dropout_keep_prob: 1.0,\n",
    "                }\n",
    "            else:\n",
    "                feed_dict = {\n",
    "                    siameseModel.input_x1: x2_batch,\n",
    "                    siameseModel.input_x2: x1_batch,\n",
    "                    siameseModel.input_y: y_batch,\n",
    "                    siameseModel.dropout_keep_prob: 1.0,\n",
    "                }\n",
    "            (step, loss, accuracy, sim) = \\\n",
    "                sess.run([global_step, siameseModel.loss, siameseModel.accuracy,\n",
    "                          siameseModel.temp_sim], feed_dict)\n",
    "            return accuracy\n",
    "\n",
    "        # Generate batches\n",
    "        batches = inpH.batch_iter(list(zip(train_set[0], train_set[1],\n",
    "                                           train_set[2])), batch_size, num_epochs)\n",
    "        max_validation_acc = 0.0\n",
    "        for nn in range(sum_no_of_batches * num_epochs):\n",
    "            batch = next(batches)\n",
    "            if len(batch) < 1:\n",
    "                continue\n",
    "            (x1_batch, x2_batch, y_batch) = zip(*batch)\n",
    "            if len(y_batch) < 1:\n",
    "                continue\n",
    "            train_step(x1_batch, x2_batch, y_batch)\n",
    "            current_step = tf.train.global_step(sess, global_step)\n",
    "            sum_acc = 0.0\n",
    "            if current_step % evaluate_every == 0:\n",
    "                dev_batches = inpH.batch_iter(list(zip(dev_set[0], dev_set[1], dev_set[2])), batch_size, 1)\n",
    "                for db in dev_batches:\n",
    "                    if len(db) < 1:\n",
    "                        continue\n",
    "                    (x1_dev_b, x2_dev_b, y_dev_b) = zip(*db)\n",
    "                    if len(y_dev_b) < 1:\n",
    "                        continue\n",
    "                    acc = dev_step(x1_dev_b, x2_dev_b, y_dev_b)\n",
    "                    sum_acc = sum_acc + acc\n",
    "            if sum_acc > max_validation_acc:\n",
    "                max_validation_acc = sum_acc\n",
    "            \n",
    "                if export==True:\n",
    "                    # save model\n",
    "                    saver.save(sess, out_dir, global_step=current_step)\n",
    "                    tf.train.write_graph(sess.graph.as_graph_def(), out_dir, 'siamese_network.pb', as_text=False)\n",
    "                \n",
    "                #print('model {} with sum_accuracy={}'.format(nn, max_validation_acc))     \n",
    "        if export==True:\n",
    "            return\n",
    "        \n",
    "        # RUN OOF INFERENCE\n",
    "        x1_temp= np.asarray(X_test['name_a'].tolist())\n",
    "        x2_temp= np.asarray(X_test['name_b'].tolist())\n",
    "        \n",
    "        x1 = np.asarray(list(vocab_processor.transform(x1_temp)))\n",
    "        x2 = np.asarray(list(vocab_processor.transform(x2_temp)))\n",
    "\n",
    "        (predictions, sim) = sess.run([siameseModel.distance, siameseModel.temp_sim], {\n",
    "                siameseModel.input_x1: x1,\n",
    "                siameseModel.input_x2: x2,\n",
    "                siameseModel.dropout_keep_prob: 1.0,\n",
    "            })\n",
    "                \n",
    "        sim = predictions.tolist()\n",
    "        sim = [1-x for x in sim]\n",
    "        #print(sim)\n",
    "        return sim"
   ]
  },
  {
   "cell_type": "code",
   "execution_count": null,
   "metadata": {},
   "outputs": [],
   "source": [
    "from sklearn.model_selection import StratifiedKFold"
   ]
  },
  {
   "cell_type": "code",
   "execution_count": null,
   "metadata": {
    "scrolled": true
   },
   "outputs": [],
   "source": [
    "# Stratified K-Folds cross-validator\n",
    "meta_training = pd.DataFrame()\n",
    "\n",
    "stratified_kfold = StratifiedKFold(n_splits = 10, shuffle=True, random_state=1)\n",
    "fold=1\n",
    "for train_index, test_index in stratified_kfold.split(X, y):\n",
    "    X_train, X_test = X.iloc[train_index], X.iloc[test_index]\n",
    "    y_train, y_test = y.iloc[train_index], y.iloc[test_index]\n",
    "    \n",
    "    oof_pred = X_test[['name_a', 'name_b']]\n",
    "    \n",
    "    oof_pred['predict_proba'] = base_model_1(X_train.drop(['a', 'b', 'name_a', 'name_b'],1),\n",
    "                                      y_train,\n",
    "                                      X_test.drop(['a', 'b', 'name_a', 'name_b'],1))\n",
    "\n",
    "    oof_pred['siamese_sim'] = base_model_2(X_train[['name_a', 'name_b']],\n",
    "                                      y_train,\n",
    "                                      X_test[['name_a', 'name_b']])\n",
    "    \n",
    "    oof_pred['target'] = y_test.tolist()\n",
    "    print('completed fold {} of 10'.format(fold))\n",
    "    fold+=1\n",
    "\n",
    "    meta_training = meta_training.append(oof_pred)"
   ]
  },
  {
   "cell_type": "code",
   "execution_count": null,
   "metadata": {},
   "outputs": [],
   "source": [
    "meta_training.sample(100)"
   ]
  },
  {
   "cell_type": "markdown",
   "metadata": {},
   "source": [
    "## Meta-model: Logistic Regression"
   ]
  },
  {
   "cell_type": "code",
   "execution_count": null,
   "metadata": {},
   "outputs": [],
   "source": [
    "df = featurize(meta_training)"
   ]
  },
  {
   "cell_type": "code",
   "execution_count": null,
   "metadata": {},
   "outputs": [],
   "source": [
    "df.head()"
   ]
  },
  {
   "cell_type": "markdown",
   "metadata": {},
   "source": [
    "## Grid Search for precision"
   ]
  },
  {
   "cell_type": "code",
   "execution_count": null,
   "metadata": {},
   "outputs": [],
   "source": [
    "cols = [col for col in df.columns if col not in ['a', 'b', 'name_a', 'name_b', 'target', 'predict_proba', 'siamese_sim']]\n",
    "comb2 = list(combinations(cols, 2))\n",
    "comb3 = list(combinations(cols, 3))\n",
    "colgrid = [(col,)for col in cols]+comb2+comb3"
   ]
  },
  {
   "cell_type": "code",
   "execution_count": null,
   "metadata": {},
   "outputs": [],
   "source": [
    "# Grid search cross validation\n",
    "from sklearn.model_selection import GridSearchCV\n",
    "from sklearn.linear_model import LogisticRegression\n",
    "from sklearn.metrics import confusion_matrix"
   ]
  },
  {
   "cell_type": "code",
   "execution_count": null,
   "metadata": {},
   "outputs": [],
   "source": [
    "X_train, X_test, y_train, y_test = train_test_split(df, df.target, test_size=0.2, random_state=1)\n",
    "X_train, X_val, y_train, y_val = train_test_split(X_train, y_train, test_size=0.25, random_state=1)"
   ]
  },
  {
   "cell_type": "code",
   "execution_count": null,
   "metadata": {
    "scrolled": true
   },
   "outputs": [],
   "source": [
    "clf = LogisticRegression()\n",
    "grid_clf = GridSearchCV(clf, param_grid = {'C':np.logspace(-4, 4, 20)}, scoring = 'precision', verbose=0)\n",
    "\n",
    "scores=[]\n",
    "for cols in colgrid:\n",
    "    grid_clf.fit(X_train[['predict_proba', 'siamese_sim']+list(cols)], y_train)\n",
    "    y_pred = grid_clf.predict(X_val[['predict_proba', 'siamese_sim']+list(cols)])\n",
    "    tn, fp, fn, tp = confusion_matrix(y_val, y_pred).ravel()\n",
    "    scores.append([str(cols), tn, fp, fn, tp])"
   ]
  },
  {
   "cell_type": "code",
   "execution_count": null,
   "metadata": {},
   "outputs": [],
   "source": [
    "scores_df = pd.DataFrame(scores)"
   ]
  },
  {
   "cell_type": "code",
   "execution_count": null,
   "metadata": {},
   "outputs": [],
   "source": [
    "scores_df.columns = ['features', 'tn', 'fp', 'fn', 'tp']"
   ]
  },
  {
   "cell_type": "code",
   "execution_count": null,
   "metadata": {},
   "outputs": [],
   "source": [
    "scores_df.head()"
   ]
  },
  {
   "cell_type": "code",
   "execution_count": null,
   "metadata": {},
   "outputs": [],
   "source": [
    "scores_df['error'] = scores_df['fp']+(scores_df['fn']).astype(int)"
   ]
  },
  {
   "cell_type": "code",
   "execution_count": null,
   "metadata": {},
   "outputs": [],
   "source": [
    "scores_df = scores_df.sort_values(['error', 'fp'])"
   ]
  },
  {
   "cell_type": "code",
   "execution_count": null,
   "metadata": {
    "scrolled": true
   },
   "outputs": [],
   "source": [
    "scores_df.head(20)"
   ]
  },
  {
   "cell_type": "code",
   "execution_count": null,
   "metadata": {},
   "outputs": [],
   "source": [
    "X_train, X_test, y_train, y_test = train_test_split(df, df.target, test_size=0.2, random_state=1)"
   ]
  },
  {
   "cell_type": "code",
   "execution_count": null,
   "metadata": {},
   "outputs": [],
   "source": [
    "selected_cols = ['predict_proba', 'siamese_sim','tkn_set', 'iterativesubstring', 'strcmp95']"
   ]
  },
  {
   "cell_type": "code",
   "execution_count": null,
   "metadata": {},
   "outputs": [],
   "source": [
    "clf = LogisticRegression()\n",
    "grid_clf = GridSearchCV(clf, param_grid = {'C':np.logspace(-4, 4, 20)}, scoring = 'precision')\n",
    "grid_clf.fit(X_train[selected_cols], y_train)\n",
    "y_pred = grid_clf.predict(X_test[selected_cols])"
   ]
  },
  {
   "cell_type": "code",
   "execution_count": null,
   "metadata": {},
   "outputs": [],
   "source": [
    "print(grid_clf.best_params_)"
   ]
  },
  {
   "cell_type": "markdown",
   "metadata": {},
   "source": [
    "## Evaluation"
   ]
  },
  {
   "cell_type": "code",
   "execution_count": null,
   "metadata": {},
   "outputs": [],
   "source": [
    "from sklearn.metrics import classification_report"
   ]
  },
  {
   "cell_type": "code",
   "execution_count": null,
   "metadata": {},
   "outputs": [],
   "source": [
    "def evaluate(y_test, y_pred):\n",
    "    cm = confusion_matrix(y_test, y_pred)\n",
    "    conf_matrix = pd.DataFrame(data = cm,columns = ['Predicted: 0', 'Predicted: 1'], index = ['Actual: 0', 'Actual: 1'])\n",
    "    print(classification_report(y_test, y_pred))\n",
    "    print(conf_matrix)\n",
    "    tn, fp, fn, tp = confusion_matrix(y_test, y_pred).ravel()\n",
    "    print('\\ntp: {} fp: {} fn: {} tp: {}'.format(tn, fp, fn, tp))"
   ]
  },
  {
   "cell_type": "code",
   "execution_count": null,
   "metadata": {},
   "outputs": [],
   "source": [
    "evaluate(y_test, y_pred)"
   ]
  },
  {
   "cell_type": "code",
   "execution_count": null,
   "metadata": {},
   "outputs": [],
   "source": [
    "# roc curve and auc\n",
    "from sklearn.metrics import roc_curve\n",
    "from sklearn.metrics import roc_auc_score\n",
    "import matplotlib.pyplot as plt"
   ]
  },
  {
   "cell_type": "code",
   "execution_count": null,
   "metadata": {},
   "outputs": [],
   "source": [
    "fig, ax = plt.subplots(1,1, figsize=(7,7))\n",
    "baseline_probs = [0 for _ in range(len(y_test))]\n",
    "# keep probabilities for the positive outcome only\n",
    "probs = grid_clf.predict_proba(X_test[selected_cols])\n",
    "probs = probs[:, 1]\n",
    "# calculate scores\n",
    "baseline_auc = roc_auc_score(y_test, baseline_probs)\n",
    "auc = roc_auc_score(y_test, probs)\n",
    "auc= ('AUC=%.3f' % (auc))\n",
    "# calculate roc curves\n",
    "baseline_fpr, baseline_tpr, _ = roc_curve(y_test, baseline_probs)\n",
    "fpr, tpr, _ = roc_curve(y_test, probs)\n",
    "# plot the roc curve for the model\n",
    "ax.plot(baseline_fpr, baseline_tpr, color='gray')\n",
    "ax.plot(fpr, tpr, marker='.', color='black')\n",
    "# axis labels\n",
    "ax.set_xlabel('False Positive Rate',fontsize=12)\n",
    "ax.set_ylabel('True Positive Rate',fontsize=12)\n",
    "ax.set_title('Receiver Operating Characteristic', fontsize=16)\n",
    "plt.text(.6, .3, auc, fontsize=13)"
   ]
  },
  {
   "cell_type": "markdown",
   "metadata": {},
   "source": [
    "## Export Models and Pipeline"
   ]
  },
  {
   "cell_type": "code",
   "execution_count": null,
   "metadata": {},
   "outputs": [],
   "source": [
    "import joblib\n",
    "import json"
   ]
  },
  {
   "cell_type": "code",
   "execution_count": null,
   "metadata": {},
   "outputs": [],
   "source": [
    "base_1 =base_model_1(X.drop(['a', 'b', 'name_a', 'name_b'],1), y, X_test=None, export=True)\n",
    "joblib.dump(base_1, filename='base.pkl')"
   ]
  },
  {
   "cell_type": "code",
   "execution_count": null,
   "metadata": {},
   "outputs": [],
   "source": [
    "base_model_2(X[['name_a', 'name_b']], y, X_test=None, export=True)"
   ]
  },
  {
   "cell_type": "code",
   "execution_count": null,
   "metadata": {},
   "outputs": [],
   "source": [
    "joblib.dump(grid_clf.best_estimator_, filename='meta.pkl')"
   ]
  }
 ],
 "metadata": {
  "kernelspec": {
   "display_name": "Python 3",
   "language": "python",
   "name": "python3"
  },
  "language_info": {
   "codemirror_mode": {
    "name": "ipython",
    "version": 3
   },
   "file_extension": ".py",
   "mimetype": "text/x-python",
   "name": "python",
   "nbconvert_exporter": "python",
   "pygments_lexer": "ipython3",
   "version": "3.7.6"
  }
 },
 "nbformat": 4,
 "nbformat_minor": 2
}
